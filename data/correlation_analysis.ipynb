{
 "cells": [
  {
   "cell_type": "code",
   "execution_count": null,
   "metadata": {},
   "outputs": [],
   "source": [
    "import numpy as np\n",
    "import scipy.stats"
   ]
  },
  {
   "cell_type": "markdown",
   "metadata": {},
   "source": [
    "## **Correlative Tests**"
   ]
  },
  {
   "cell_type": "code",
   "execution_count": null,
   "metadata": {},
   "outputs": [],
   "source": [
    "import sys\n",
    "import os\n",
    "sys.path.append('../utilities')\n",
    "from scipy import stats\n",
    "import U_config as cfg\n",
    "\n",
    "both_vars = {\"sic\":cfg.SIC_PROCESSED, \"sea_surface_temperature\":cfg.ERA5_PROCESSED, \"2m_temperature\":cfg.ERA5_PROCESSED, \"mean_sea_level_pressure\":cfg.ERA5_PROCESSED, \"geopotential\":cfg.ERA5_PROCESSED, \"surface_net_solar_radiation\":cfg.ERA5_PROCESSED, \"surface_solar_radiation_upwards\":cfg.ERA5_PROCESSED, \"surface_solar_radiation_downwards\":cfg.ERA5_PROCESSED, \"10m_u_component_of_wind\":cfg.ERA5_PROCESSED, \"10m_v_component_of_wind\":cfg.ERA5_PROCESSED}\n",
    "all_vars = {\"sic\":cfg.SIC_PROCESSED, \"sea_surface_temperature\":cfg.ERA5_PROCESSED, \"2m_temperature\":cfg.ERA5_PROCESSED, \"mean_sea_level_pressure\":cfg.ERA5_PROCESSED, \"geopotential\":cfg.ERA5_PROCESSED, \"surface_net_solar_radiation\":cfg.ERA5_PROCESSED, \"surface_solar_radiation_upwards\":cfg.ERA5_PROCESSED, \"surface_solar_radiation_downwards\":cfg.ERA5_PROCESSED, \"10m_u_component_of_wind\":cfg.ERA5_PROCESSED, \"10m_v_component_of_wind\":cfg.ERA5_PROCESSED, \"u_drift\":cfg.SID_U_PROCESSED, \"v_drift\":cfg.SID_V_PROCESSED, \"sit\":cfg.SIT_PROCESSED}\n",
    "data_subset = {\"sic\":[], \"sea_surface_temperature\":[], \"2m_temperature\":[], \"mean_sea_level_pressure\":[], \"geopotential\":[], \"surface_net_solar_radiation\":[], \"surface_solar_radiation_upwards\":[], \"surface_solar_radiation_downwards\":[], \"10m_u_component_of_wind\":[], \"10m_v_component_of_wind\":[]}\n",
    "data_all = {\"sic\":[], \"sea_surface_temperature\":[], \"2m_temperature\":[], \"mean_sea_level_pressure\":[], \"geopotential\":[], \"surface_net_solar_radiation\":[], \"surface_solar_radiation_upwards\":[], \"surface_solar_radiation_downwards\":[], \"10m_u_component_of_wind\":[], \"10m_v_component_of_wind\":[], \"u_drift\":[], \"v_drift\":[], \"sit\":[]}\n",
    "\n",
    "def gather_data(yr_start, yr_end, month):\n",
    "    Samples = pd.DataFrame()\n",
    "    month = f'0{month}' if month<10 else f'{month}'    \n",
    "    \n",
    "    selection = {\"sic\":cfg.SIC_PROCESSED, \"sea_surface_temperature\":cfg.ERA5_PROCESSED, \"2m_temperature\":cfg.ERA5_PROCESSED, \"mean_sea_level_pressure\":cfg.ERA5_PROCESSED, \"geopotential\":cfg.ERA5_PROCESSED, \"surface_net_solar_radiation\":cfg.ERA5_PROCESSED, \"surface_solar_radiation_upwards\":cfg.ERA5_PROCESSED, \"surface_solar_radiation_downwards\":cfg.ERA5_PROCESSED, \"10m_u_component_of_wind\":cfg.ERA5_PROCESSED, \"10m_v_component_of_wind\":cfg.ERA5_PROCESSED, \"u_drift\":cfg.SID_U_PROCESSED, \"v_drift\":cfg.SID_V_PROCESSED, \"sit\":cfg.SIT_PROCESSED}\n",
    "    data =  {\"sic\":[], \"sea_surface_temperature\":[], \"2m_temperature\":[], \"mean_sea_level_pressure\":[], \"geopotential\":[], \"surface_net_solar_radiation\":[], \"surface_solar_radiation_upwards\":[], \"surface_solar_radiation_downwards\":[], \"10m_u_component_of_wind\":[], \"10m_v_component_of_wind\":[], \"u_drift\":[], \"v_drift\":[], \"sit\":[]}\n",
    "\n",
    "    for var in list(selection.keys()):\n",
    "        path = os.path.join(cfg.ERA5_PROCESSED, var) if (selection[var] == cfg.ERA5_PROCESSED) else selection[var]\n",
    "        for year in range(start,end+1):\n",
    "            file_loc = os.path.join(path, f'{year}_{month}.npy')\n",
    "            file = np.load(file_loc)[:100, :100]\n",
    "            data[var].append(file)\n",
    "\n",
    "    var_acronym = {\"sic\":\"SIC\", \"sea_surface_temperature\":\"SST\", \"2m_temperature\":\"T2M\", \"mean_sea_level_pressure\":\"MSL\", \"geopotential\":\"GEO\", \"surface_net_solar_radiation\":\"S_NET\", \"surface_solar_radiation_upwards\":\"S_UP\", \"surface_solar_radiation_downwards\":\"S_DOWN\", \"10m_u_component_of_wind\":\"10u\", \"10m_v_component_of_wind\":\"10v\", \"u_drift\":\"uDRIFT\", \"v_drift\":\"vDRIFT\", \"sit\":\"SIT\"}\n",
    "\n",
    "    for var in list(data.keys()):\n",
    "        data[var] = stats.mode(np.array(data[var]))[0]\n",
    "        Samples[var_acronym[var]] = data[var].ravel()\n",
    "\n",
    "    return Samples"
   ]
  },
  {
   "cell_type": "code",
   "execution_count": null,
   "metadata": {},
   "outputs": [],
   "source": [
    "import pandas as pd\n",
    "import numpy as np\n",
    "import matplotlib.pyplot as plt\n",
    "import seaborn as sns\n",
    "\n",
    "months = ['January', 'February', 'March', 'April', 'May', 'June', 'July', 'August', 'September', 'October', 'November', 'December']\n",
    "sample_set = {}\n",
    "monthly_linear_important = {}\n",
    "monthly_non_linear_important = {}\n",
    "\n",
    "for i in range(0, 2):\n",
    "    start = 2011\n",
    "    end = 2019\n",
    "    month = months[i]\n",
    "    sample_set[month] = gather_data(start,end,i+1)\n",
    "    pearson, spearman = plot_correlation(sample_set[month], month, start, end)\n",
    "    monthly_linear_important[month] = pearson\n",
    "    monthly_non_linear_important[month] = spearman\n",
    "\n",
    "plot_annual_vals(monthly_linear_important, monthly_non_linear_important, start, end)"
   ]
  },
  {
   "cell_type": "code",
   "execution_count": null,
   "metadata": {},
   "outputs": [],
   "source": [
    "def plot_correlation(data_frame, month, start, end):\n",
    "    # Non-linear correlations:\n",
    "    s_correlation = data_frame.corr(\"spearman\")\n",
    "    plt.figure(figsize=(8, 6))\n",
    "    mask = np.triu(np.ones_like(s_correlation, dtype=np.bool))\n",
    "    heatmap = sns.heatmap(s_correlation, mask = mask, vmin=-1, vmax=1, annot=True, cmap=\"RdBu\", fmt='.2f',   annot_kws={\"fontsize\":10})\n",
    "    plt.title(f\"Spearman Correlation for {month} {start}-{end}\\n(Non-Linear Correlation)\", fontsize=12)\n",
    "    plt.savefig(f\"../plots/correlation/{start}-{end}-{month}_non_linear.png\")\n",
    "\n",
    "    # Linear correlation\n",
    "    correlation = data_frame.corr(\"pearson\")\n",
    "    plt.figure(figsize=(8, 6))\n",
    "    mask = np.triu(np.ones_like(correlation, dtype=np.bool))\n",
    "    heatmap = sns.heatmap(correlation, mask = mask, vmin=-1, vmax=1, annot=True, cmap=\"RdBu\", fmt='.2f',   annot_kws={\"fontsize\":10})\n",
    "    plt.title(f\"Pearson Correlation for {month} {start}-{end}\\n(Linear Correlation)\", fontsize=12)\n",
    "    plt.savefig(f\"../plots/correlation/{start}-{end}-{month}_linear.png\")\n",
    "    non_linear_list = s_correlation[['SIC']].sort_values(by='SIC', ascending=False)\n",
    "    linear_list = correlation[['SIC']].sort_values(by='SIC', ascending=False)\n",
    "    return linear_list, non_linear_list"
   ]
  },
  {
   "cell_type": "code",
   "execution_count": null,
   "metadata": {},
   "outputs": [],
   "source": [
    "def plot_annual_vals(linear, non_linear, yr_start, yr_end):\n",
    "    vals_linear = pd.DataFrame()\n",
    "    vals_non_linear = pd.DataFrame()\n",
    "\n",
    "    for month in months:\n",
    "        vals_linear[month] = monthly_linear_important[month]\n",
    "        vals_non_linear[month] = monthly_non_linear_important[month]\n",
    "    vals_linear=vals_linear.T\n",
    "    vals_non_linear=vals_non_linear.T\n",
    "    \n",
    "    plt.figure(figsize=(8, 4))\n",
    "    heatmap = sns.heatmap(vals_linear, vmin=-1, vmax=1, annot=True, cmap='RdBu', cbar_kws={'label': 'Pearson Correlation Coefficient'}, fmt='.2f')\n",
    "    heatmap.set_title(f'SIC-Variable Linear Correlation for {yr_start}-{yr_end}', fontdict={'fontsize':12}, pad=16)\n",
    "    plt.savefig(f'../plots/correlation/{yr_start}-{yr_end}_annual_pearson.png')\n",
    "\n",
    "    plt.figure(figsize=(8, 4))\n",
    "    heatmap = sns.heatmap(vals_non_linear, vmin=-1, vmax=1, annot=True, cmap='RdBu', cbar_kws={'label': 'Spearman Correlation Coefficient'}, fmt='.2f')\n",
    "    heatmap.set_title(f'SIC-Variable Non-Linear Correlation for {yr_start}-{yr_end}', fontdict={'fontsize':12}, pad=16)\n",
    "    plt.savefig(f'../plots/correlation/{yr_start}-{yr_end}_annual_spearman.png')"
   ]
  },
  {
   "cell_type": "code",
   "execution_count": null,
   "metadata": {},
   "outputs": [],
   "source": [
    "plot_annual_vals(monthly_linear_important, monthly_non_linear_important, start, end)"
   ]
  }
 ],
 "metadata": {
  "kernelspec": {
   "display_name": "thesis",
   "language": "python",
   "name": "python3"
  },
  "language_info": {
   "codemirror_mode": {
    "name": "ipython",
    "version": 3
   },
   "file_extension": ".py",
   "mimetype": "text/x-python",
   "name": "python",
   "nbconvert_exporter": "python",
   "pygments_lexer": "ipython3",
   "version": "3.8.17"
  },
  "orig_nbformat": 4
 },
 "nbformat": 4,
 "nbformat_minor": 2
}
